{
 "cells": [
  {
   "cell_type": "code",
   "execution_count": 3,
   "metadata": {
    "collapsed": true,
    "pycharm": {
     "name": "#%% imports\n",
     "is_executing": false
    }
   },
   "outputs": [],
   "source": [
    "import pandas as pd\n",
    "import numpy as np\n",
    "from sklearn.discriminant_analysis import QuadraticDiscriminantAnalysis\n",
    "from sklearn.metrics import confusion_matrix, classification_report, precision_score"
   ]
  },
  {
   "cell_type": "code",
   "execution_count": 6,
   "outputs": [],
   "source": [
    "with open('heart.csv', 'r') as f:\n",
    "    lines = f.readlines()\n",
    "    \n",
    "# remove spaces\n",
    "lines = [line.replace(' ', ',') for line in lines]\n",
    "\n",
    "# finally, write lines in the file\n",
    "with open('heart.csv', 'w') as f:\n",
    "    f.writelines(lines)"
   ],
   "metadata": {
    "collapsed": false,
    "pycharm": {
     "name": "#%% convert spaces to ','\n",
     "is_executing": false
    }
   }
  },
  {
   "cell_type": "code",
   "execution_count": null,
   "outputs": [],
   "source": [
    "data = pd.read_csv('heart.csv')\n",
    "print(data.head())"
   ],
   "metadata": {
    "collapsed": false,
    "pycharm": {
     "name": "#%% import database\n"
    }
   }
  },
  {
   "cell_type": "code",
   "execution_count": 11,
   "outputs": [],
   "source": [
    "X_train = data[:180][['v1','v2','v3','v4','v5','v6','v7','v8', 'v9','v10', 'v11', 'v12', 'v13']]\n",
    "y_train = data[:180]['class']\n",
    "\n",
    "X_test = data[180:][['v1','v2','v3','v4','v5','v6','v7','v8', 'v9','v10', 'v11', 'v12', 'v13']]\n",
    "y_test = data[180:]['class']"
   ],
   "metadata": {
    "collapsed": false,
    "pycharm": {
     "name": "#%% prepare train and test parts\n",
     "is_executing": false
    }
   }
  },
  {
   "cell_type": "code",
   "execution_count": 13,
   "outputs": [
    {
     "name": "stdout",
     "text": [
      "Model priors : [0.54444444 0.45555556]\n",
      "Model means : [[5.32040816e+01 5.10204082e-01 2.81632653e+00 1.28479592e+02\n",
      "  2.40153061e+02 1.32653061e-01 8.87755102e-01 1.56561224e+02\n",
      "  2.04081633e-01 5.56122449e-01 1.39795918e+00 2.34693878e-01\n",
      "  3.66326531e+00]\n",
      " [5.62439024e+01 8.29268293e-01 3.59756098e+00 1.34768293e+02\n",
      "  2.53573171e+02 1.70731707e-01 1.18292683e+00 1.37573171e+02\n",
      "  5.24390244e-01 1.54146341e+00 1.81707317e+00 1.20731707e+00\n",
      "  5.65853659e+00]]\n"
     ],
     "output_type": "stream"
    }
   ],
   "source": [
    "model = QuadraticDiscriminantAnalysis()\n",
    "model_fit = model.fit(X_train,y_train)\n",
    "print(f'Model priors : {model_fit.priors_}')\n",
    "print(f'Model means : {model_fit.means_}' )"
   ],
   "metadata": {
    "collapsed": false,
    "pycharm": {
     "name": "#%% create model\n",
     "is_executing": false
    }
   }
  },
  {
   "cell_type": "code",
   "execution_count": 14,
   "outputs": [
    {
     "name": "stdout",
     "text": [
      "Unique : (array([1, 2]), array([47, 43]))\n",
      "Confusion matrix : [[39  8]\n",
      " [13 30]]\n",
      "Classification error :               precision    recall  f1-score   support\n",
      "\n",
      "           1      0.830     0.750     0.788        52\n",
      "           2      0.698     0.789     0.741        38\n",
      "\n",
      "    accuracy                          0.767        90\n",
      "   macro avg      0.764     0.770     0.764        90\n",
      "weighted avg      0.774     0.767     0.768        90\n",
      "\n"
     ],
     "output_type": "stream"
    }
   ],
   "source": [
    "predict = model_fit.predict(X_test)\n",
    "print(f'Unique : {np.unique(predict, return_counts=True)}')\n",
    "print(f'Confusion matrix : {confusion_matrix(predict, y_test)}')\n",
    "print(f'Classification report : {classification_report(y_test, predict, digits=3)}')"
   ],
   "metadata": {
    "collapsed": false,
    "pycharm": {
     "name": "#%% Summary\n",
     "is_executing": false
    }
   }
  }
 ],
 "metadata": {
  "kernelspec": {
   "display_name": "Python 3",
   "language": "python",
   "name": "python3"
  },
  "language_info": {
   "codemirror_mode": {
    "name": "ipython",
    "version": 2
   },
   "file_extension": ".py",
   "mimetype": "text/x-python",
   "name": "python",
   "nbconvert_exporter": "python",
   "pygments_lexer": "ipython2",
   "version": "2.7.6"
  },
  "pycharm": {
   "stem_cell": {
    "cell_type": "raw",
    "source": [],
    "metadata": {
     "collapsed": false
    }
   }
  }
 },
 "nbformat": 4,
 "nbformat_minor": 0
}